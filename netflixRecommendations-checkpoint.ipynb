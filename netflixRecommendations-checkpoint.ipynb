{
 "cells": [
  {
   "cell_type": "code",
   "execution_count": null,
   "id": "977ed1e5-4dbb-4d3a-9d6c-169a448f92d1",
   "metadata": {},
   "outputs": [],
   "source": [
    "import sqlite3"
   ]
  },
  {
   "cell_type": "code",
   "execution_count": null,
   "id": "8a34861d-3ea0-437d-b30d-b376fb35fbd1",
   "metadata": {
    "tags": []
   },
   "outputs": [],
   "source": [
    "conn = sqlite3.connect('example.db')"
   ]
  },
  {
   "cell_type": "code",
   "execution_count": null,
   "id": "978a0360-381a-4664-bda8-383b275457fd",
   "metadata": {
    "tags": []
   },
   "outputs": [],
   "source": [
    "cursor = conn.cursor()"
   ]
  },
  {
   "cell_type": "code",
   "execution_count": null,
   "id": "01853229-1a23-49f2-b5ae-7aeaae712160",
   "metadata": {
    "tags": []
   },
   "outputs": [],
   "source": [
    "cursor.execute('''\n",
    "    CREATE TABLE IF NOT EXISTS users(\n",
    "    id INTEGER PRIMARY KEY,\n",
    "    username TEXT NOT NULL,\n",
    "    email TEXT NOT NULL\n",
    "    )\n",
    "''')"
   ]
  },
  {
   "cell_type": "code",
   "execution_count": null,
   "id": "03339e57-26cd-4966-80f9-49899d911cb2",
   "metadata": {
    "tags": []
   },
   "outputs": [],
   "source": [
    "conn.commit()"
   ]
  },
  {
   "cell_type": "code",
   "execution_count": null,
   "id": "063333e8-f685-40e3-a52c-8444b71b1344",
   "metadata": {
    "tags": []
   },
   "outputs": [],
   "source": [
    "cursor.execute(\"INSERT INTO users (username , email)VALUES(?,?)\",('Abbas','abbas@gmail.com'))"
   ]
  },
  {
   "cell_type": "code",
   "execution_count": null,
   "id": "c542ce7e-1f66-4cb7-84e7-6e671042f034",
   "metadata": {
    "tags": []
   },
   "outputs": [],
   "source": [
    "cursor.execute(\"SELECT *FROM users\")\n",
    "rows = cursor.fetchall()\n",
    "for i in rows:\n",
    "    print(i)"
   ]
  },
  {
   "cell_type": "code",
   "execution_count": null,
   "id": "c54df504-189d-4da1-9a7c-b48532bf0e4f",
   "metadata": {
    "tags": []
   },
   "outputs": [],
   "source": [
    "conn.close()"
   ]
  },
  {
   "cell_type": "markdown",
   "id": "b942bd21-b9b6-4972-a324-cb226581962f",
   "metadata": {},
   "source": [
    "## create for a netflix movie recomendation"
   ]
  },
  {
   "cell_type": "code",
   "execution_count": 1,
   "id": "27a52590-ccd9-49ad-995e-b7a5f7429f75",
   "metadata": {
    "tags": []
   },
   "outputs": [],
   "source": [
    "import sqlite3\n",
    "from datetime import datetime"
   ]
  },
  {
   "cell_type": "code",
   "execution_count": 2,
   "id": "8d917182-7098-4b96-9e54-daa9d99e36a2",
   "metadata": {
    "tags": []
   },
   "outputs": [],
   "source": [
    "conn = sqlite3.connect('example1.db')"
   ]
  },
  {
   "cell_type": "code",
   "execution_count": 3,
   "id": "ba417093-fb16-49f5-991d-3a638b02702d",
   "metadata": {
    "tags": []
   },
   "outputs": [],
   "source": [
    "cursor = conn.cursor()"
   ]
  },
  {
   "cell_type": "code",
   "execution_count": 4,
   "id": "5b6d59a9-cadd-4d07-9eeb-cb4a9b557910",
   "metadata": {
    "tags": []
   },
   "outputs": [],
   "source": [
    "def create_table(cursor):\n",
    "    cursor.execute('''\n",
    "        CREATE TABLE IF NOT EXISTS users(\n",
    "        if INTEGER PRIMARY KEY,\n",
    "        username TEXT NOT NULL,\n",
    "        email TEXT NOT NULL\n",
    "        )\n",
    "    ''')\n",
    "    cursor.execute('''\n",
    "    \n",
    "        CREATE TABLE IF NOT EXISTS movies(\n",
    "        movie_id INTEGER PRIMARY KEY,\n",
    "        title TEXT NOT NULL,\n",
    "        gener TEXT\n",
    "        )\n",
    "    ''')\n",
    "    cursor.execute('''\n",
    "        CREATE TABLE IF NOT EXISTS ratings(\n",
    "        rating_id INTEGER PRIMARY KEY,\n",
    "        user_id INTEGER,\n",
    "        movie_id INTEGER,\n",
    "        rating INTEGER,\n",
    "        timestamp DATETIME,\n",
    "        FOREIGN KEY(user_id) REFERENCES users(user_id),\n",
    "        FOREIGN KEY(movie_id) REFERENCES users(movie_id)\n",
    "        )\n",
    "    ''')"
   ]
  },
  {
   "cell_type": "code",
   "execution_count": 5,
   "id": "9d63c42a-b052-444c-856c-321155650405",
   "metadata": {
    "tags": []
   },
   "outputs": [],
   "source": [
    "def add_users(cursor,username,email):\n",
    "    cursor.execute(\"INSERT INTO users(username,email) VALUES(?,?)\",(username,email))"
   ]
  },
  {
   "cell_type": "code",
   "execution_count": 6,
   "id": "1685ea4e-301d-4fb0-93aa-da2bd5f264da",
   "metadata": {
    "tags": []
   },
   "outputs": [],
   "source": [
    "def add_movie(cursor,title,gener):\n",
    "    cursor.execute(\"INSERT INTO movies(title,gener) VALUES(?,?)\",(title,gener))"
   ]
  },
  {
   "cell_type": "code",
   "execution_count": 7,
   "id": "c7e893ac-6ac1-4079-8e4e-5bd4b7c9b274",
   "metadata": {
    "tags": []
   },
   "outputs": [],
   "source": [
    "\n",
    "\n",
    "def add_rating(cursor, user_id, movie_id, rating):\n",
    "    timestamp = datetime.now().strftime(\"%y-%m-%d %H:%M:%S\")\n",
    "    cursor.execute(\"INSERT INTO ratings(user_id, movie_id, rating, timestamp) VALUES (?, ?, ?, ?)\", (user_id, movie_id, rating, timestamp))\n"
   ]
  },
  {
   "cell_type": "code",
   "execution_count": 8,
   "id": "b0ed4433-41b7-4960-a10a-28c0b0030f8c",
   "metadata": {
    "tags": []
   },
   "outputs": [],
   "source": [
    "def  get_recomendations(cursor,user_id):\n",
    "    cursor.execute('''\n",
    "        SELECT m.title , AVG(r.rating) as avg_rating\n",
    "        FROM movies m\n",
    "        JOIN ratings r ON m.movie_id = r.movie_id\n",
    "        WHERE r.user_id != ? -- Exclude movies rated by the user\n",
    "        GROUP BY m.title\n",
    "        ORDER BY avg_rating DESC\n",
    "        LIMIT 1\n",
    "    ''',(user_id,))\n",
    "    return cursor.fetchall()"
   ]
  },
  {
   "cell_type": "code",
   "execution_count": 9,
   "id": "bbb49933-1004-415a-9b77-52e5076209ee",
   "metadata": {
    "tags": []
   },
   "outputs": [
    {
     "name": "stdout",
     "output_type": "stream",
     "text": [
      "movie recomendation for Abbas\n",
      "('FIGHT_CLUB', 5.0)\n"
     ]
    }
   ],
   "source": [
    "def main():\n",
    "    conn = sqlite3.connect('netflix_recomendations.db')\n",
    "    cursor = conn.cursor()\n",
    "    create_table(cursor)\n",
    "    #add  users\n",
    "    add_users(cursor,'abbas','abbas@gmail.com')\n",
    "    add_users(cursor,'prashanth','pra@gmil.com')\n",
    "    #add movies\n",
    "    add_movie(cursor,'FIGHT_CLUB', 'ACTION')\n",
    "    add_movie(cursor,'BAT_MAN','ACTION')\n",
    "    \n",
    "    #add ratings\n",
    "    add_rating(cursor,1,1,4)\n",
    "    add_rating(cursor,2,1,5)\n",
    "    \n",
    "    recomendations  = get_recomendations(cursor,1)\n",
    "    print(\"movie recomendation for Abbas\")\n",
    "    for movie in recomendations:\n",
    "        print(movie)\n",
    "    conn.commit()\n",
    "    \n",
    "    conn.close()\n",
    "if __name__ == \"__main__\":\n",
    "    main()\n",
    "    \n",
    "    "
   ]
  },
  {
   "cell_type": "code",
   "execution_count": 15,
   "id": "a3dfca56-e365-4820-a4ae-78e628463db1",
   "metadata": {
    "tags": []
   },
   "outputs": [],
   "source": [
    "def display_database():\n",
    "    conn = sqlite3.connect('netflix recommendatons')\n",
    "    cursor = conn.cursor()\n",
    "    print(\"Users:\")\n",
    "    cursor.execute(\"SELECT *FROM users\")\n",
    "    users = cursor.fetchall()\n",
    "    for user in users:\n",
    "        print(user)\n",
    "    print(\"movie/\")\n",
    "    cursor.execute(\"SELECT *FROM movies\")\n",
    "    movie = cursor.fetchall()\n",
    "    for movie in movies:\n",
    "        print(movies)\n",
    "    "
   ]
  },
  {
   "cell_type": "code",
   "execution_count": null,
   "id": "497a77ea-b070-4ba4-a385-4b75b255ace0",
   "metadata": {},
   "outputs": [],
   "source": []
  },
  {
   "cell_type": "code",
   "execution_count": null,
   "id": "56910a91-202e-4012-ab76-423676b594a4",
   "metadata": {},
   "outputs": [],
   "source": []
  }
 ],
 "metadata": {
  "kernelspec": {
   "display_name": "Python 3 (ipykernel)",
   "language": "python",
   "name": "python3"
  },
  "language_info": {
   "codemirror_mode": {
    "name": "ipython",
    "version": 3
   },
   "file_extension": ".py",
   "mimetype": "text/x-python",
   "name": "python",
   "nbconvert_exporter": "python",
   "pygments_lexer": "ipython3",
   "version": "3.11.7"
  }
 },
 "nbformat": 4,
 "nbformat_minor": 5
}
